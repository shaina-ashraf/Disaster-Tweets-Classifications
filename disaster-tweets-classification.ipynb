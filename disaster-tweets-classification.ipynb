{
 "cells": [
  {
   "cell_type": "code",
   "execution_count": 1,
   "id": "3ba46448",
   "metadata": {
    "_cell_guid": "b1076dfc-b9ad-4769-8c92-a6c4dae69d19",
    "_uuid": "8f2839f25d086af736a60e9eeb907d3b93b6e0e5",
    "execution": {
     "iopub.execute_input": "2022-04-21T13:42:00.705730Z",
     "iopub.status.busy": "2022-04-21T13:42:00.705274Z",
     "iopub.status.idle": "2022-04-21T13:42:00.725007Z",
     "shell.execute_reply": "2022-04-21T13:42:00.723789Z"
    },
    "papermill": {
     "duration": 0.053632,
     "end_time": "2022-04-21T13:42:00.727693",
     "exception": false,
     "start_time": "2022-04-21T13:42:00.674061",
     "status": "completed"
    },
    "tags": []
   },
   "outputs": [
    {
     "name": "stdout",
     "output_type": "stream",
     "text": [
      "/kaggle/input/nlp-getting-started/sample_submission.csv\n",
      "/kaggle/input/nlp-getting-started/train.csv\n",
      "/kaggle/input/nlp-getting-started/test.csv\n"
     ]
    }
   ],
   "source": [
    "# This Python 3 environment comes with many helpful analytics libraries installed\n",
    "# It is defined by the kaggle/python Docker image: https://github.com/kaggle/docker-python\n",
    "# For example, here's several helpful packages to load\n",
    "\n",
    "import numpy as np # linear algebra\n",
    "import pandas as pd # data processing, CSV file I/O (e.g. pd.read_csv)\n",
    "\n",
    "# Input data files are available in the read-only \"../input/\" directory\n",
    "# For example, running this (by clicking run or pressing Shift+Enter) will list all files under the input directory\n",
    "\n",
    "import os\n",
    "for dirname, _, filenames in os.walk('/kaggle/input'):\n",
    "    for filename in filenames:\n",
    "        print(os.path.join(dirname, filename))\n",
    "\n",
    "# You can write up to 20GB to the current directory (/kaggle/working/) that gets preserved as output when you create a version using \"Save & Run All\" \n",
    "# You can also write temporary files to /kaggle/temp/, but they won't be saved outside of the current session"
   ]
  },
  {
   "cell_type": "code",
   "execution_count": 2,
   "id": "2ca75713",
   "metadata": {
    "execution": {
     "iopub.execute_input": "2022-04-21T13:42:00.781014Z",
     "iopub.status.busy": "2022-04-21T13:42:00.780719Z",
     "iopub.status.idle": "2022-04-21T13:42:01.838924Z",
     "shell.execute_reply": "2022-04-21T13:42:01.838055Z"
    },
    "papermill": {
     "duration": 1.08609,
     "end_time": "2022-04-21T13:42:01.841308",
     "exception": false,
     "start_time": "2022-04-21T13:42:00.755218",
     "status": "completed"
    },
    "tags": []
   },
   "outputs": [],
   "source": [
    "import numpy as np\n",
    "import pandas as pd\n",
    "import seaborn as sns\n",
    "import matplotlib.pyplot as plt\n",
    "import re\n",
    "import string\n",
    "import warnings\n",
    "warnings.filterwarnings(\"ignore\")"
   ]
  },
  {
   "cell_type": "code",
   "execution_count": 3,
   "id": "adae04e6",
   "metadata": {
    "execution": {
     "iopub.execute_input": "2022-04-21T13:42:01.892302Z",
     "iopub.status.busy": "2022-04-21T13:42:01.891964Z",
     "iopub.status.idle": "2022-04-21T13:42:01.984715Z",
     "shell.execute_reply": "2022-04-21T13:42:01.983915Z"
    },
    "papermill": {
     "duration": 0.120495,
     "end_time": "2022-04-21T13:42:01.986735",
     "exception": false,
     "start_time": "2022-04-21T13:42:01.866240",
     "status": "completed"
    },
    "tags": []
   },
   "outputs": [
    {
     "data": {
      "text/html": [
       "<div>\n",
       "<style scoped>\n",
       "    .dataframe tbody tr th:only-of-type {\n",
       "        vertical-align: middle;\n",
       "    }\n",
       "\n",
       "    .dataframe tbody tr th {\n",
       "        vertical-align: top;\n",
       "    }\n",
       "\n",
       "    .dataframe thead th {\n",
       "        text-align: right;\n",
       "    }\n",
       "</style>\n",
       "<table border=\"1\" class=\"dataframe\">\n",
       "  <thead>\n",
       "    <tr style=\"text-align: right;\">\n",
       "      <th></th>\n",
       "      <th>id</th>\n",
       "      <th>keyword</th>\n",
       "      <th>location</th>\n",
       "      <th>text</th>\n",
       "      <th>target</th>\n",
       "    </tr>\n",
       "  </thead>\n",
       "  <tbody>\n",
       "    <tr>\n",
       "      <th>0</th>\n",
       "      <td>1</td>\n",
       "      <td>NaN</td>\n",
       "      <td>NaN</td>\n",
       "      <td>Our Deeds are the Reason of this #earthquake M...</td>\n",
       "      <td>1</td>\n",
       "    </tr>\n",
       "    <tr>\n",
       "      <th>1</th>\n",
       "      <td>4</td>\n",
       "      <td>NaN</td>\n",
       "      <td>NaN</td>\n",
       "      <td>Forest fire near La Ronge Sask. Canada</td>\n",
       "      <td>1</td>\n",
       "    </tr>\n",
       "    <tr>\n",
       "      <th>2</th>\n",
       "      <td>5</td>\n",
       "      <td>NaN</td>\n",
       "      <td>NaN</td>\n",
       "      <td>All residents asked to 'shelter in place' are ...</td>\n",
       "      <td>1</td>\n",
       "    </tr>\n",
       "    <tr>\n",
       "      <th>3</th>\n",
       "      <td>6</td>\n",
       "      <td>NaN</td>\n",
       "      <td>NaN</td>\n",
       "      <td>13,000 people receive #wildfires evacuation or...</td>\n",
       "      <td>1</td>\n",
       "    </tr>\n",
       "    <tr>\n",
       "      <th>4</th>\n",
       "      <td>7</td>\n",
       "      <td>NaN</td>\n",
       "      <td>NaN</td>\n",
       "      <td>Just got sent this photo from Ruby #Alaska as ...</td>\n",
       "      <td>1</td>\n",
       "    </tr>\n",
       "  </tbody>\n",
       "</table>\n",
       "</div>"
      ],
      "text/plain": [
       "   id keyword location                                               text  \\\n",
       "0   1     NaN      NaN  Our Deeds are the Reason of this #earthquake M...   \n",
       "1   4     NaN      NaN             Forest fire near La Ronge Sask. Canada   \n",
       "2   5     NaN      NaN  All residents asked to 'shelter in place' are ...   \n",
       "3   6     NaN      NaN  13,000 people receive #wildfires evacuation or...   \n",
       "4   7     NaN      NaN  Just got sent this photo from Ruby #Alaska as ...   \n",
       "\n",
       "   target  \n",
       "0       1  \n",
       "1       1  \n",
       "2       1  \n",
       "3       1  \n",
       "4       1  "
      ]
     },
     "execution_count": 3,
     "metadata": {},
     "output_type": "execute_result"
    }
   ],
   "source": [
    "train_data = pd.read_csv(\"/kaggle/input/nlp-getting-started/train.csv\")\n",
    "#train_data.head()\n",
    "test_data = pd.read_csv(\"/kaggle/input/nlp-getting-started/test.csv\")\n",
    "train_data.head()\n"
   ]
  },
  {
   "cell_type": "markdown",
   "id": "3e72972e",
   "metadata": {
    "papermill": {
     "duration": 0.024359,
     "end_time": "2022-04-21T13:42:02.037169",
     "exception": false,
     "start_time": "2022-04-21T13:42:02.012810",
     "status": "completed"
    },
    "tags": []
   },
   "source": [
    "Explore Data:"
   ]
  },
  {
   "cell_type": "code",
   "execution_count": 4,
   "id": "c99f3a04",
   "metadata": {
    "execution": {
     "iopub.execute_input": "2022-04-21T13:42:02.090024Z",
     "iopub.status.busy": "2022-04-21T13:42:02.089682Z",
     "iopub.status.idle": "2022-04-21T13:42:02.307995Z",
     "shell.execute_reply": "2022-04-21T13:42:02.307057Z"
    },
    "papermill": {
     "duration": 0.248113,
     "end_time": "2022-04-21T13:42:02.310681",
     "exception": false,
     "start_time": "2022-04-21T13:42:02.062568",
     "status": "completed"
    },
    "tags": []
   },
   "outputs": [
    {
     "name": "stdout",
     "output_type": "stream",
     "text": [
      "0    4342\n",
      "1    3271\n",
      "Name: target, dtype: int64\n"
     ]
    },
    {
     "data": {
      "text/plain": [
       "Text(0.5, 0, 'X-Axiz')"
      ]
     },
     "execution_count": 4,
     "metadata": {},
     "output_type": "execute_result"
    },
    {
     "data": {
      "image/png": "[encoded data removed]",
      "text/plain": [
       "<Figure size 432x288 with 1 Axes>"
      ]
     },
     "metadata": {
      "needs_background": "light"
     },
     "output_type": "display_data"
    }
   ],
   "source": [
    "train_data[train_data['target']==1].values[1]\n",
    "x = train_data.target.value_counts()\n",
    "print(x)\n",
    "sns.barplot(x.index,x)\n",
    "plt.gca().set_ylabel('Y-Axiz')\n",
    "plt.gca().set_xlabel('X-Axiz')"
   ]
  },
  {
   "cell_type": "code",
   "execution_count": 5,
   "id": "4ef0c5fc",
   "metadata": {
    "execution": {
     "iopub.execute_input": "2022-04-21T13:42:02.373271Z",
     "iopub.status.busy": "2022-04-21T13:42:02.372165Z",
     "iopub.status.idle": "2022-04-21T13:42:02.700804Z",
     "shell.execute_reply": "2022-04-21T13:42:02.699918Z"
    },
    "papermill": {
     "duration": 0.360217,
     "end_time": "2022-04-21T13:42:02.703001",
     "exception": false,
     "start_time": "2022-04-21T13:42:02.342784",
     "status": "completed"
    },
    "tags": []
   },
   "outputs": [
    {
     "data": {
      "image/png": "[encoded data removed]",
      "text/plain": [
       "<Figure size 720x360 with 2 Axes>"
      ]
     },
     "metadata": {
      "needs_background": "light"
     },
     "output_type": "display_data"
    }
   ],
   "source": [
    "fig,(ax1,ax2)=plt.subplots(1,2,figsize=(10,5))\n",
    "tweet_len=train_data[train_data['target']==1]['text'].str.len()\n",
    "ax1.hist(tweet_len,color='blue')\n",
    "ax1.set_title('disaster tweets')\n",
    "tweet_len=train_data[train_data['target']==0]['text'].str.len()\n",
    "ax2.hist(tweet_len,color='green')\n",
    "ax2.set_title('Not disaster tweets')\n",
    "fig.suptitle('Characters in tweets')\n",
    "plt.show()"
   ]
  },
  {
   "cell_type": "markdown",
   "id": "ccdabfb3",
   "metadata": {
    "papermill": {
     "duration": 0.027047,
     "end_time": "2022-04-21T13:42:02.758511",
     "exception": false,
     "start_time": "2022-04-21T13:42:02.731464",
     "status": "completed"
    },
    "tags": []
   },
   "source": [
    "Data Cleaning:"
   ]
  },
  {
   "cell_type": "code",
   "execution_count": 6,
   "id": "8f7421f8",
   "metadata": {
    "execution": {
     "iopub.execute_input": "2022-04-21T13:42:02.817269Z",
     "iopub.status.busy": "2022-04-21T13:42:02.816969Z",
     "iopub.status.idle": "2022-04-21T13:42:03.284771Z",
     "shell.execute_reply": "2022-04-21T13:42:03.283759Z"
    },
    "papermill": {
     "duration": 0.501102,
     "end_time": "2022-04-21T13:42:03.286943",
     "exception": false,
     "start_time": "2022-04-21T13:42:02.785841",
     "status": "completed"
    },
    "tags": []
   },
   "outputs": [
    {
     "name": "stdout",
     "output_type": "stream",
     "text": [
      "0       our deeds are the reason of this earthquake ma...\n",
      "1                   forest fire near la ronge sask canada\n",
      "2       all residents asked to shelter in place are be...\n",
      "3       000 people receive wildfires evacuation orders...\n",
      "4       just got sent this photo from ruby alaska as s...\n",
      "                              ...                        \n",
      "7608    two giant cranes holding a bridge collapse int...\n",
      "7609    ariaahrary thetawniest the out of control wild...\n",
      "7610      m 00 utckm s of volcano hawaii httptcozdtoydebj\n",
      "7611    police investigating after an ebike collided w...\n",
      "7612    the latest more homes razed by northern califo...\n",
      "Name: text_clean, Length: 7613, dtype: object\n",
      "0                      just happened a terrible car crash\n",
      "1       heard about earthquake is different cities sta...\n",
      "2       there is a forest fire at spot pond geese are ...\n",
      "3                   apocalypse lighting spokane wildfires\n",
      "4             typhoon soudelor kills  in china and taiwan\n",
      "                              ...                        \n",
      "3258    earthquake safety los angeles  safety fastener...\n",
      "3259    storm in ri worse than last hurricane my citya...\n",
      "3260    green line derailment in chicago httptcoutbxlc...\n",
      "3261    meg issues hazardous weather outlook hwo httpt...\n",
      "3262    cityofcalgary has activated its municipal emer...\n",
      "Name: text_clean, Length: 3263, dtype: object\n"
     ]
    }
   ],
   "source": [
    "#Text Preporcessing\n",
    "#Convert LowerCase:\n",
    "train_data[\"text_clean\"] = train_data[\"text\"].apply(lambda x: x.lower())\n",
    "test_data[\"text_clean\"] = test_data[\"text\"].apply(lambda x: x.lower())\n",
    "\n",
    "#Special Characters Removal:\n",
    "train_data['text_clean']= train_data['text_clean'].str.replace('rt ',\"\").str.replace('@','').str.replace('#','').str.replace('[^\\w\\s]','').str.replace('[1-9]','')\n",
    "test_data['text_clean']= test_data['text_clean'].str.replace('rt ',\"\").str.replace('@','').str.replace('#','').str.replace('[^\\w\\s]','').str.replace('[1-9]','')\n",
    "# Remove URL\n",
    "def remove_URL(text):\n",
    "    return re.sub(r\"https?://\\S+|www\\.\\S+\", \"\", text)\n",
    "\n",
    "train_data[\"text_clean\"] = train_data[\"text_clean\"].apply(lambda x: remove_URL(x))\n",
    "test_data[\"text_clean\"] = test_data[\"text_clean\"].apply(lambda x: remove_URL(x))\n",
    "\n",
    "def remove_html(text):\n",
    "    html = re.compile(r\"<.*?>|&([a-z0-9]+|#[0-9]{1,6}|#x[0-9a-f]{1,6});\")\n",
    "    return re.sub(html, \"\", text)\n",
    "\n",
    "train_data[\"text_clean\"] = train_data[\"text_clean\"].apply(lambda x: remove_html(x))\n",
    "test_data[\"text_clean\"] = test_data[\"text_clean\"].apply(lambda x: remove_html(x))\n",
    "\n",
    "def remove_emojis(text):\n",
    "    emoji_pattern = re.compile(\n",
    "        '['\n",
    "        u'\\U0001F600-\\U0001F64F'  # emoticons\n",
    "        u'\\U0001F300-\\U0001F5FF'  # symbols & pictographs\n",
    "        u'\\U0001F680-\\U0001F6FF'  # transport & map symbols\n",
    "        u'\\U0001F1E0-\\U0001F1FF'  # flags (iOS)\n",
    "        u'\\U00002702-\\U000027B0'\n",
    "        u'\\U000024C2-\\U0001F251'\n",
    "        ']+',\n",
    "        flags=re.UNICODE)\n",
    "    return emoji_pattern.sub(r'', text)\n",
    "\n",
    "train_data[\"text_clean\"] = train_data[\"text_clean\"].apply(lambda x: remove_emojis(x))\n",
    "test_data[\"text_clean\"] = test_data[\"text_clean\"].apply(lambda x: remove_emojis(x))\n",
    "\n",
    "def remove_punct(text):\n",
    "    return text.translate(str.maketrans('', '', string.punctuation))\n",
    "\n",
    "\n",
    "train_data[\"text_clean\"] = train_data[\"text_clean\"].apply(lambda x: remove_punct(x))\n",
    "test_data[\"text_clean\"] = test_data[\"text_clean\"].apply(lambda x: remove_punct(x))\n",
    "\n",
    "def remove_non_ascii(text):\n",
    "    return re.sub(r'[^\\x00-\\x7f]',r'', text)\n",
    "\n",
    "train_data[\"text_clean\"] = train_data[\"text_clean\"].apply(lambda x: remove_non_ascii(x))\n",
    "test_data[\"text_clean\"] = test_data[\"text_clean\"].apply(lambda x: remove_non_ascii(x))\n",
    "print(train_data[\"text_clean\"])\n",
    "print(test_data[\"text_clean\"])\n",
    "\n",
    "\n"
   ]
  },
  {
   "cell_type": "code",
   "execution_count": 7,
   "id": "bdf6391f",
   "metadata": {
    "execution": {
     "iopub.execute_input": "2022-04-21T13:42:03.344219Z",
     "iopub.status.busy": "2022-04-21T13:42:03.343940Z",
     "iopub.status.idle": "2022-04-21T13:42:04.660333Z",
     "shell.execute_reply": "2022-04-21T13:42:04.659297Z"
    },
    "papermill": {
     "duration": 1.348145,
     "end_time": "2022-04-21T13:42:04.662558",
     "exception": false,
     "start_time": "2022-04-21T13:42:03.314413",
     "status": "completed"
    },
    "tags": []
   },
   "outputs": [
    {
     "name": "stdout",
     "output_type": "stream",
     "text": [
      "[nltk_data] Downloading package stopwords to /usr/share/nltk_data...\n",
      "[nltk_data]   Package stopwords is already up-to-date!\n",
      "[nltk_data] Downloading package wordnet to /usr/share/nltk_data...\n",
      "[nltk_data]   Package wordnet is already up-to-date!\n"
     ]
    }
   ],
   "source": [
    "import nltk\n",
    "nltk.download('stopwords')\n",
    "nltk.download('wordnet')\n",
    "from nltk.corpus import stopwords\n",
    "stop_words = set(stopwords.words('english'))\n",
    "\n",
    "train_data['text'] = train_data['text'].apply(lambda x: ' '.join(term for term in x.split() if term not in stop_words))\n",
    "test_data['text'] = train_data['text'].apply(lambda x: ' '.join(term for term in x.split() if term not in stop_words))\n",
    "\n",
    "\n",
    "\n",
    "\n"
   ]
  },
  {
   "cell_type": "markdown",
   "id": "07063e69",
   "metadata": {
    "papermill": {
     "duration": 0.027941,
     "end_time": "2022-04-21T13:42:04.718395",
     "exception": false,
     "start_time": "2022-04-21T13:42:04.690454",
     "status": "completed"
    },
    "tags": []
   },
   "source": []
  },
  {
   "cell_type": "code",
   "execution_count": 8,
   "id": "3ebc9436",
   "metadata": {
    "execution": {
     "iopub.execute_input": "2022-04-21T13:42:04.776493Z",
     "iopub.status.busy": "2022-04-21T13:42:04.775669Z",
     "iopub.status.idle": "2022-04-21T13:42:04.794426Z",
     "shell.execute_reply": "2022-04-21T13:42:04.793712Z"
    },
    "papermill": {
     "duration": 0.050029,
     "end_time": "2022-04-21T13:42:04.796530",
     "exception": false,
     "start_time": "2022-04-21T13:42:04.746501",
     "status": "completed"
    },
    "tags": []
   },
   "outputs": [],
   "source": [
    "#Filling missing values\n",
    "train_data.isnull().sum()\n",
    "test_data.isnull().sum()\n",
    "train_data['location'] = train_data['location'].fillna('None')\n",
    "train_data['keyword'] = train_data['keyword'].fillna('None')\n",
    "test_data['location'] = test_data['location'].fillna('None')\n",
    "test_data['keyword'] = test_data['keyword'].fillna('None')"
   ]
  },
  {
   "cell_type": "code",
   "execution_count": 9,
   "id": "bbecd256",
   "metadata": {
    "execution": {
     "iopub.execute_input": "2022-04-21T13:42:04.856098Z",
     "iopub.status.busy": "2022-04-21T13:42:04.855190Z",
     "iopub.status.idle": "2022-04-21T13:42:04.874509Z",
     "shell.execute_reply": "2022-04-21T13:42:04.873593Z"
    },
    "papermill": {
     "duration": 0.051444,
     "end_time": "2022-04-21T13:42:04.876669",
     "exception": false,
     "start_time": "2022-04-21T13:42:04.825225",
     "status": "completed"
    },
    "tags": []
   },
   "outputs": [
    {
     "data": {
      "text/html": [
       "<div>\n",
       "<style scoped>\n",
       "    .dataframe tbody tr th:only-of-type {\n",
       "        vertical-align: middle;\n",
       "    }\n",
       "\n",
       "    .dataframe tbody tr th {\n",
       "        vertical-align: top;\n",
       "    }\n",
       "\n",
       "    .dataframe thead th {\n",
       "        text-align: right;\n",
       "    }\n",
       "</style>\n",
       "<table border=\"1\" class=\"dataframe\">\n",
       "  <thead>\n",
       "    <tr style=\"text-align: right;\">\n",
       "      <th></th>\n",
       "      <th>keyword</th>\n",
       "      <th>location</th>\n",
       "      <th>text</th>\n",
       "      <th>text_clean</th>\n",
       "    </tr>\n",
       "  </thead>\n",
       "  <tbody>\n",
       "    <tr>\n",
       "      <th>0</th>\n",
       "      <td>None</td>\n",
       "      <td>None</td>\n",
       "      <td>Our Deeds Reason #earthquake May ALLAH Forgive us</td>\n",
       "      <td>just happened a terrible car crash</td>\n",
       "    </tr>\n",
       "    <tr>\n",
       "      <th>1</th>\n",
       "      <td>None</td>\n",
       "      <td>None</td>\n",
       "      <td>Forest fire near La Ronge Sask. Canada</td>\n",
       "      <td>heard about earthquake is different cities sta...</td>\n",
       "    </tr>\n",
       "    <tr>\n",
       "      <th>2</th>\n",
       "      <td>None</td>\n",
       "      <td>None</td>\n",
       "      <td>All residents asked 'shelter place' notified o...</td>\n",
       "      <td>there is a forest fire at spot pond geese are ...</td>\n",
       "    </tr>\n",
       "    <tr>\n",
       "      <th>3</th>\n",
       "      <td>None</td>\n",
       "      <td>None</td>\n",
       "      <td>13,000 people receive #wildfires evacuation or...</td>\n",
       "      <td>apocalypse lighting spokane wildfires</td>\n",
       "    </tr>\n",
       "    <tr>\n",
       "      <th>4</th>\n",
       "      <td>None</td>\n",
       "      <td>None</td>\n",
       "      <td>Just got sent photo Ruby #Alaska smoke #wildfi...</td>\n",
       "      <td>typhoon soudelor kills  in china and taiwan</td>\n",
       "    </tr>\n",
       "    <tr>\n",
       "      <th>...</th>\n",
       "      <td>...</td>\n",
       "      <td>...</td>\n",
       "      <td>...</td>\n",
       "      <td>...</td>\n",
       "    </tr>\n",
       "    <tr>\n",
       "      <th>3258</th>\n",
       "      <td>None</td>\n",
       "      <td>None</td>\n",
       "      <td>Do feel engulfed low self-image? Take quiz: ht...</td>\n",
       "      <td>earthquake safety los angeles  safety fastener...</td>\n",
       "    </tr>\n",
       "    <tr>\n",
       "      <th>3259</th>\n",
       "      <td>None</td>\n",
       "      <td>None</td>\n",
       "      <td>Man equally incapable seeing nothingness emerg...</td>\n",
       "      <td>storm in ri worse than last hurricane my citya...</td>\n",
       "    </tr>\n",
       "    <tr>\n",
       "      <th>3260</th>\n",
       "      <td>None</td>\n",
       "      <td>None</td>\n",
       "      <td>Fully Engulfed Garage Fire: Propane Tanks Insi...</td>\n",
       "      <td>green line derailment in chicago httptcoutbxlc...</td>\n",
       "    </tr>\n",
       "    <tr>\n",
       "      <th>3261</th>\n",
       "      <td>None</td>\n",
       "      <td>None</td>\n",
       "      <td>He came land engulfed tribal war turned land p...</td>\n",
       "      <td>meg issues hazardous weather outlook hwo httpt...</td>\n",
       "    </tr>\n",
       "    <tr>\n",
       "      <th>3262</th>\n",
       "      <td>None</td>\n",
       "      <td>None</td>\n",
       "      <td>@suelinflower words describe physical painthey...</td>\n",
       "      <td>cityofcalgary has activated its municipal emer...</td>\n",
       "    </tr>\n",
       "  </tbody>\n",
       "</table>\n",
       "<p>3263 rows × 4 columns</p>\n",
       "</div>"
      ],
      "text/plain": [
       "     keyword location                                               text  \\\n",
       "0       None     None  Our Deeds Reason #earthquake May ALLAH Forgive us   \n",
       "1       None     None             Forest fire near La Ronge Sask. Canada   \n",
       "2       None     None  All residents asked 'shelter place' notified o...   \n",
       "3       None     None  13,000 people receive #wildfires evacuation or...   \n",
       "4       None     None  Just got sent photo Ruby #Alaska smoke #wildfi...   \n",
       "...      ...      ...                                                ...   \n",
       "3258    None     None  Do feel engulfed low self-image? Take quiz: ht...   \n",
       "3259    None     None  Man equally incapable seeing nothingness emerg...   \n",
       "3260    None     None  Fully Engulfed Garage Fire: Propane Tanks Insi...   \n",
       "3261    None     None  He came land engulfed tribal war turned land p...   \n",
       "3262    None     None  @suelinflower words describe physical painthey...   \n",
       "\n",
       "                                             text_clean  \n",
       "0                    just happened a terrible car crash  \n",
       "1     heard about earthquake is different cities sta...  \n",
       "2     there is a forest fire at spot pond geese are ...  \n",
       "3                 apocalypse lighting spokane wildfires  \n",
       "4           typhoon soudelor kills  in china and taiwan  \n",
       "...                                                 ...  \n",
       "3258  earthquake safety los angeles  safety fastener...  \n",
       "3259  storm in ri worse than last hurricane my citya...  \n",
       "3260  green line derailment in chicago httptcoutbxlc...  \n",
       "3261  meg issues hazardous weather outlook hwo httpt...  \n",
       "3262  cityofcalgary has activated its municipal emer...  \n",
       "\n",
       "[3263 rows x 4 columns]"
      ]
     },
     "execution_count": 9,
     "metadata": {},
     "output_type": "execute_result"
    }
   ],
   "source": [
    "train_data.head()\n",
    "\n",
    "\n",
    "# Dropping Un-necessary features:\n",
    "#train_data = train_data.drop('id', axis=1)\n",
    "train_data.drop(columns=['id'])\n",
    "test_data.drop(columns=['id'])\n",
    "#test_data = test_data.drop('id', axis=1)\n",
    "\n"
   ]
  },
  {
   "cell_type": "code",
   "execution_count": 10,
   "id": "4052cc4d",
   "metadata": {
    "execution": {
     "iopub.execute_input": "2022-04-21T13:42:04.935982Z",
     "iopub.status.busy": "2022-04-21T13:42:04.935692Z",
     "iopub.status.idle": "2022-04-21T13:42:05.966356Z",
     "shell.execute_reply": "2022-04-21T13:42:05.964814Z"
    },
    "papermill": {
     "duration": 1.064181,
     "end_time": "2022-04-21T13:42:05.969762",
     "exception": false,
     "start_time": "2022-04-21T13:42:04.905581",
     "status": "completed"
    },
    "tags": []
   },
   "outputs": [
    {
     "name": "stdout",
     "output_type": "stream",
     "text": [
      "0       [Our, Deeds, Reason, #earthquake, May, ALLAH, ...\n",
      "1        [Forest, fire, near, La, Ronge, Sask, ., Canada]\n",
      "2       [All, residents, asked, ', shelter, place, ', ...\n",
      "3       [13,000, people, receive, #wildfires, evacuati...\n",
      "4       [Just, got, sent, photo, Ruby, #Alaska, smoke,...\n",
      "                              ...                        \n",
      "7608    [Two, giant, cranes, holding, bridge, collapse...\n",
      "7609    [@aria_ahrary, @TheTawniest, The, control, wil...\n",
      "7610    [M1, ., 94, [, 01:04, UTC, ], ?, 5km, S, Volca...\n",
      "7611    [Police, investigating, e-bike, collided, car,...\n",
      "7612    [The, Latest, :, More, Homes, Razed, Northern,...\n",
      "Name: tokens, Length: 7613, dtype: object\n",
      "0       [Our, Deeds, Reason, #earthquake, May, ALLAH, ...\n",
      "1        [Forest, fire, near, La, Ronge, Sask, ., Canada]\n",
      "2       [All, residents, asked, ', shelter, place, ', ...\n",
      "3       [13,000, people, receive, #wildfires, evacuati...\n",
      "4       [Just, got, sent, photo, Ruby, #Alaska, smoke,...\n",
      "                              ...                        \n",
      "3258    [Do, feel, engulfed, low, self-image, ?, Take,...\n",
      "3259    [Man, equally, incapable, seeing, nothingness,...\n",
      "3260    [Fully, Engulfed, Garage, Fire, :, Propane, Ta...\n",
      "3261    [He, came, land, engulfed, tribal, war, turned...\n",
      "3262    [@suelinflower, words, describe, physical, pai...\n",
      "Name: tokens, Length: 3263, dtype: object\n"
     ]
    }
   ],
   "source": [
    "# Tokenization\n",
    "import nltk\n",
    "from nltk import TweetTokenizer\n",
    "\n",
    "tokenizer = TweetTokenizer()\n",
    "\n",
    "train_data['tokens'] = [tokenizer.tokenize(item) for item in train_data.text]\n",
    "test_data['tokens'] = [ tokenizer.tokenize(item) for item in test_data.text]\n",
    "print(train_data['tokens'])\n",
    "print(test_data['tokens'])\n",
    "\n"
   ]
  },
  {
   "cell_type": "code",
   "execution_count": 11,
   "id": "deeac5b7",
   "metadata": {
    "execution": {
     "iopub.execute_input": "2022-04-21T13:42:06.031777Z",
     "iopub.status.busy": "2022-04-21T13:42:06.031392Z",
     "iopub.status.idle": "2022-04-21T13:42:08.738872Z",
     "shell.execute_reply": "2022-04-21T13:42:08.738001Z"
    },
    "papermill": {
     "duration": 2.740503,
     "end_time": "2022-04-21T13:42:08.741149",
     "exception": false,
     "start_time": "2022-04-21T13:42:06.000646",
     "status": "completed"
    },
    "tags": []
   },
   "outputs": [
    {
     "name": "stdout",
     "output_type": "stream",
     "text": [
      "0        Our Deeds Reason #earthquake May ALLAH Forgive u\n",
      "1                 Forest fire near La Ronge Sask . Canada\n",
      "2       All resident asked ' shelter place ' notified ...\n",
      "3       13,000 people receive #wildfires evacuation or...\n",
      "4       Just got sent photo Ruby #Alaska smoke #wildfi...\n",
      "                              ...                        \n",
      "7608    Two giant crane holding bridge collapse nearby...\n",
      "7609    @aria_ahrary @TheTawniest The control wild fir...\n",
      "7610    M1 . 94 [ 01:04 UTC ] ? 5km S Volcano Hawaii ....\n",
      "7611    Police investigating e-bike collided car Littl...\n",
      "7612    The Latest : More Homes Razed Northern Califor...\n",
      "Name: tokens, Length: 7613, dtype: object\n"
     ]
    }
   ],
   "source": [
    "# Lemmatization\n",
    "\n",
    "from nltk.stem import WordNetLemmatizer\n",
    "\n",
    "lemmatizer = WordNetLemmatizer()\n",
    "\n",
    "def lemmatize_item(item):\n",
    "    new_item = []\n",
    "    for x in item:\n",
    "        x = lemmatizer.lemmatize(x)\n",
    "        new_item.append(x)\n",
    "    return \" \".join(new_item)\n",
    "\n",
    "train_data['tokens'] = [lemmatize_item(item) for item in train_data.tokens]\n",
    "test_data['tokens'] = [lemmatize_item(item) for item in test_data.tokens]\n",
    "print(train_data['tokens'])"
   ]
  },
  {
   "cell_type": "code",
   "execution_count": 12,
   "id": "7d343be0",
   "metadata": {
    "execution": {
     "iopub.execute_input": "2022-04-21T13:42:08.801738Z",
     "iopub.status.busy": "2022-04-21T13:42:08.801213Z",
     "iopub.status.idle": "2022-04-21T13:42:09.358760Z",
     "shell.execute_reply": "2022-04-21T13:42:09.357844Z"
    },
    "papermill": {
     "duration": 0.590991,
     "end_time": "2022-04-21T13:42:09.361347",
     "exception": false,
     "start_time": "2022-04-21T13:42:08.770356",
     "status": "completed"
    },
    "tags": []
   },
   "outputs": [],
   "source": [
    "# Vectorization\n",
    "\n",
    "from sklearn.feature_extraction.text import CountVectorizer\n",
    "\n",
    "vectorizer = CountVectorizer()\n",
    "\n",
    "\n",
    "X = vectorizer.fit_transform(train_data.text).toarray()\n",
    "y = train_data['target']"
   ]
  },
  {
   "cell_type": "code",
   "execution_count": 13,
   "id": "c33d3341",
   "metadata": {
    "execution": {
     "iopub.execute_input": "2022-04-21T13:42:09.421696Z",
     "iopub.status.busy": "2022-04-21T13:42:09.421413Z",
     "iopub.status.idle": "2022-04-21T13:42:10.226190Z",
     "shell.execute_reply": "2022-04-21T13:42:10.225323Z"
    },
    "papermill": {
     "duration": 0.837888,
     "end_time": "2022-04-21T13:42:10.228551",
     "exception": false,
     "start_time": "2022-04-21T13:42:09.390663",
     "status": "completed"
    },
    "tags": []
   },
   "outputs": [],
   "source": [
    "#Data Splitting\n",
    "from sklearn.model_selection import train_test_split\n",
    "X_train, X_test, y_train, y_test = train_test_split(X, y, test_size = 0.2, random_state = 0)\n"
   ]
  },
  {
   "cell_type": "code",
   "execution_count": 14,
   "id": "7729f000",
   "metadata": {
    "execution": {
     "iopub.execute_input": "2022-04-21T13:42:10.289731Z",
     "iopub.status.busy": "2022-04-21T13:42:10.289436Z",
     "iopub.status.idle": "2022-04-21T13:42:10.295416Z",
     "shell.execute_reply": "2022-04-21T13:42:10.294470Z"
    },
    "papermill": {
     "duration": 0.038667,
     "end_time": "2022-04-21T13:42:10.297230",
     "exception": false,
     "start_time": "2022-04-21T13:42:10.258563",
     "status": "completed"
    },
    "tags": []
   },
   "outputs": [
    {
     "data": {
      "text/plain": [
       "'\\nfrom sklearn.linear_model import LogisticRegression\\n\\n# Logistic Regression Model \\nlog = LogisticRegression(random_state = 0)\\n\\n# Fitting data\\nlog.fit(X_train, y_train)\\n\\n# Predicting the data\\nlog_pred = log.predict(X_test)\\n\\n'"
      ]
     },
     "execution_count": 14,
     "metadata": {},
     "output_type": "execute_result"
    }
   ],
   "source": [
    "#Applying Model\n",
    "# LOGISTIC REGRESSION\n",
    "\"\"\"\n",
    "from sklearn.linear_model import LogisticRegression\n",
    "\n",
    "# Logistic Regression Model \n",
    "log = LogisticRegression(random_state = 0)\n",
    "\n",
    "# Fitting data\n",
    "log.fit(X_train, y_train)\n",
    "\n",
    "# Predicting the data\n",
    "log_pred = log.predict(X_test)\n",
    "\n",
    "\"\"\""
   ]
  },
  {
   "cell_type": "code",
   "execution_count": 15,
   "id": "59e738ee",
   "metadata": {
    "execution": {
     "iopub.execute_input": "2022-04-21T13:42:10.368512Z",
     "iopub.status.busy": "2022-04-21T13:42:10.368106Z",
     "iopub.status.idle": "2022-04-21T13:43:42.004728Z",
     "shell.execute_reply": "2022-04-21T13:43:42.003519Z"
    },
    "papermill": {
     "duration": 91.677694,
     "end_time": "2022-04-21T13:43:42.007449",
     "exception": false,
     "start_time": "2022-04-21T13:42:10.329755",
     "status": "completed"
    },
    "tags": []
   },
   "outputs": [],
   "source": [
    "#Import Random Forest Model\n",
    "from sklearn.ensemble import RandomForestClassifier\n",
    "\n",
    "#Create a Gaussian Classifier\n",
    "log = RandomForestClassifier(n_estimators=100)\n",
    "\n",
    "#Train the model using the training sets y_pred=clf.predict(X_test)\n",
    "log.fit(X_train,y_train)\n",
    "\n",
    "log_pred=log.predict(X_test)"
   ]
  },
  {
   "cell_type": "code",
   "execution_count": 16,
   "id": "eb88f8d0",
   "metadata": {
    "execution": {
     "iopub.execute_input": "2022-04-21T13:43:42.075644Z",
     "iopub.status.busy": "2022-04-21T13:43:42.075154Z",
     "iopub.status.idle": "2022-04-21T13:43:42.080955Z",
     "shell.execute_reply": "2022-04-21T13:43:42.080094Z"
    },
    "papermill": {
     "duration": 0.04123,
     "end_time": "2022-04-21T13:43:42.083058",
     "exception": false,
     "start_time": "2022-04-21T13:43:42.041828",
     "status": "completed"
    },
    "tags": []
   },
   "outputs": [
    {
     "data": {
      "text/plain": [
       "'\\nfrom sklearn.ensemble import AdaBoostClassifier\\n\\nlog = AdaBoostClassifier()\\nlog.fit(X_train,y_train)\\n\\nlog_pred=log.predict(X_test)\\n'"
      ]
     },
     "execution_count": 16,
     "metadata": {},
     "output_type": "execute_result"
    }
   ],
   "source": [
    "\"\"\"\n",
    "from sklearn.ensemble import AdaBoostClassifier\n",
    "\n",
    "log = AdaBoostClassifier()\n",
    "log.fit(X_train,y_train)\n",
    "\n",
    "log_pred=log.predict(X_test)\n",
    "\"\"\""
   ]
  },
  {
   "cell_type": "code",
   "execution_count": 17,
   "id": "b3c67858",
   "metadata": {
    "execution": {
     "iopub.execute_input": "2022-04-21T13:43:42.149844Z",
     "iopub.status.busy": "2022-04-21T13:43:42.149136Z",
     "iopub.status.idle": "2022-04-21T13:43:42.156307Z",
     "shell.execute_reply": "2022-04-21T13:43:42.155385Z"
    },
    "papermill": {
     "duration": 0.042063,
     "end_time": "2022-04-21T13:43:42.158295",
     "exception": false,
     "start_time": "2022-04-21T13:43:42.116232",
     "status": "completed"
    },
    "tags": []
   },
   "outputs": [
    {
     "name": "stdout",
     "output_type": "stream",
     "text": [
      "\n",
      "ACCURACY :  0.8010505581089954\n"
     ]
    }
   ],
   "source": [
    "# MODEL EVALUATION FOR LOGISTIC REGRESSION\n",
    "\n",
    "from sklearn.metrics import accuracy_score, classification_report, confusion_matrix\n",
    "from sklearn.model_selection import cross_val_score,KFold\n",
    "\n",
    "# Accuracy\n",
    "acc = accuracy_score(y_test,log_pred)\n",
    "print(\"\\nACCURACY : \",acc)\n",
    "\n"
   ]
  },
  {
   "cell_type": "code",
   "execution_count": 18,
   "id": "df5fd772",
   "metadata": {
    "execution": {
     "iopub.execute_input": "2022-04-21T13:43:42.223419Z",
     "iopub.status.busy": "2022-04-21T13:43:42.222643Z",
     "iopub.status.idle": "2022-04-21T14:11:20.175840Z",
     "shell.execute_reply": "2022-04-21T14:11:20.174773Z"
    },
    "papermill": {
     "duration": 1658.019614,
     "end_time": "2022-04-21T14:11:20.209981",
     "exception": false,
     "start_time": "2022-04-21T13:43:42.190367",
     "status": "completed"
    },
    "tags": []
   },
   "outputs": [
    {
     "name": "stdout",
     "output_type": "stream",
     "text": [
      "\n",
      "K-FOLD CROSS VALIDATION :  0.7246796813120253\n"
     ]
    }
   ],
   "source": [
    "# KFold Cross Validation\n",
    "kfold = KFold(n_splits=15)\n",
    "results = cross_val_score(log, X, y,cv=kfold)\n",
    "print(\"\\nK-FOLD CROSS VALIDATION : \",results.mean())\n",
    "\n"
   ]
  },
  {
   "cell_type": "code",
   "execution_count": 19,
   "id": "85154f8c",
   "metadata": {
    "execution": {
     "iopub.execute_input": "2022-04-21T14:11:20.274357Z",
     "iopub.status.busy": "2022-04-21T14:11:20.274015Z",
     "iopub.status.idle": "2022-04-21T14:11:20.287164Z",
     "shell.execute_reply": "2022-04-21T14:11:20.286278Z"
    },
    "papermill": {
     "duration": 0.047882,
     "end_time": "2022-04-21T14:11:20.289611",
     "exception": false,
     "start_time": "2022-04-21T14:11:20.241729",
     "status": "completed"
    },
    "tags": []
   },
   "outputs": [
    {
     "name": "stdout",
     "output_type": "stream",
     "text": [
      "\n",
      "CLASSIFICATION REPORT:\n",
      "               precision    recall  f1-score   support\n",
      "\n",
      "           0       0.77      0.93      0.85       886\n",
      "           1       0.87      0.62      0.72       637\n",
      "\n",
      "    accuracy                           0.80      1523\n",
      "   macro avg       0.82      0.78      0.78      1523\n",
      "weighted avg       0.81      0.80      0.79      1523\n",
      "\n"
     ]
    }
   ],
   "source": [
    "# Classification Report\n",
    "clf_report = classification_report(y_test,log_pred)\n",
    "print(\"\\nCLASSIFICATION REPORT:\\n\", clf_report)\n",
    "\n"
   ]
  },
  {
   "cell_type": "code",
   "execution_count": 20,
   "id": "6fd478a8",
   "metadata": {
    "execution": {
     "iopub.execute_input": "2022-04-21T14:11:20.354450Z",
     "iopub.status.busy": "2022-04-21T14:11:20.353682Z",
     "iopub.status.idle": "2022-04-21T14:11:20.571495Z",
     "shell.execute_reply": "2022-04-21T14:11:20.570870Z"
    },
    "papermill": {
     "duration": 0.252149,
     "end_time": "2022-04-21T14:11:20.573362",
     "exception": false,
     "start_time": "2022-04-21T14:11:20.321213",
     "status": "completed"
    },
    "tags": []
   },
   "outputs": [
    {
     "name": "stdout",
     "output_type": "stream",
     "text": [
      "\n",
      "CONFUSION MATRIX:\n"
     ]
    },
    {
     "data": {
      "image/png": "[encoded data removed]",
      "text/plain": [
       "<Figure size 432x288 with 2 Axes>"
      ]
     },
     "metadata": {
      "needs_background": "light"
     },
     "output_type": "display_data"
    }
   ],
   "source": [
    "# Confusion Matrix\n",
    "print(\"\\nCONFUSION MATRIX:\")\n",
    "sns.heatmap(confusion_matrix(y_test,log_pred),annot=True,fmt='g')\n",
    "plt.show()\n"
   ]
  },
  {
   "cell_type": "code",
   "execution_count": 21,
   "id": "9b93a81f",
   "metadata": {
    "execution": {
     "iopub.execute_input": "2022-04-21T14:11:20.640380Z",
     "iopub.status.busy": "2022-04-21T14:11:20.639769Z",
     "iopub.status.idle": "2022-04-21T14:11:21.960522Z",
     "shell.execute_reply": "2022-04-21T14:11:21.958889Z"
    },
    "papermill": {
     "duration": 1.357734,
     "end_time": "2022-04-21T14:11:21.963731",
     "exception": false,
     "start_time": "2022-04-21T14:11:20.605997",
     "status": "completed"
    },
    "tags": []
   },
   "outputs": [
    {
     "name": "stdout",
     "output_type": "stream",
     "text": [
      "         id  target\n",
      "0         0       1\n",
      "1         2       1\n",
      "2         3       1\n",
      "3         9       1\n",
      "4        11       1\n",
      "...     ...     ...\n",
      "3258  10861       0\n",
      "3259  10865       0\n",
      "3260  10868       1\n",
      "3261  10874       0\n",
      "3262  10875       0\n",
      "\n",
      "[3263 rows x 2 columns]\n"
     ]
    }
   ],
   "source": [
    "test = vectorizer.transform(test_data.text).toarray()\n",
    "pred = log.predict(test)\n",
    "submission_df = pd.read_csv('../input/nlp-getting-started/sample_submission.csv')\n",
    "submission_df['target'] = pred\n",
    "submission_df.to_csv('submission.csv', index=False)\n",
    "result = pd.read_csv('submission.csv')\n",
    "print (result)\n",
    "#result"
   ]
  }
 ],
 "metadata": {
  "kernelspec": {
   "display_name": "Python 3",
   "language": "python",
   "name": "python3"
  },
  "language_info": {
   "codemirror_mode": {
    "name": "ipython",
    "version": 3
   },
   "file_extension": ".py",
   "mimetype": "text/x-python",
   "name": "python",
   "nbconvert_exporter": "python",
   "pygments_lexer": "ipython3",
   "version": "3.7.12"
  },
  "papermill": {
   "default_parameters": {},
   "duration": 1771.738132,
   "end_time": "2022-04-21T14:11:23.124311",
   "environment_variables": {},
   "exception": null,
   "input_path": "__notebook__.ipynb",
   "output_path": "__notebook__.ipynb",
   "parameters": {},
   "start_time": "2022-04-21T13:41:51.386179",
   "version": "2.3.4"
  }
 },
 "nbformat": 4,
 "nbformat_minor": 5
}
